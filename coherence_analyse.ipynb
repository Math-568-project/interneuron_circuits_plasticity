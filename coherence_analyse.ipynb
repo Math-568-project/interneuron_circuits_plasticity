{
 "cells": [
  {
   "cell_type": "code",
   "execution_count": 36,
   "metadata": {},
   "outputs": [],
   "source": [
    "import pickle\n",
    "import matplotlib.pyplot as plt\n",
    "\n",
    "from itertools import combinations\n",
    "from brian2 import *"
   ]
  },
  {
   "cell_type": "markdown",
   "metadata": {},
   "source": [
    "# load the data"
   ]
  },
  {
   "cell_type": "code",
   "execution_count": 3,
   "metadata": {},
   "outputs": [],
   "source": [
    "result_path = 'results/results2.pkl'\n",
    "with open(result_path, 'rb') as f:\n",
    "    results = pickle.load(f)"
   ]
  },
  {
   "cell_type": "markdown",
   "metadata": {},
   "source": [
    "# Analyse the data "
   ]
  },
  {
   "cell_type": "code",
   "execution_count": 4,
   "metadata": {},
   "outputs": [],
   "source": [
    "pyr_stim0=results['PYRData0']\n",
    "pyr_stim1=results['PYRData1']"
   ]
  },
  {
   "cell_type": "code",
   "execution_count": 10,
   "metadata": {},
   "outputs": [],
   "source": [
    "def expand_spike_train(spike_times_raw):\n",
    "    # transfer the raw data into a list of spike times (unit-free)\n",
    "    result = []\n",
    "    for values in spike_times_raw:\n",
    "        for value in values:\n",
    "            result.append(value / second)\n",
    "    return result\n"
   ]
  },
  {
   "cell_type": "code",
   "execution_count": 32,
   "metadata": {},
   "outputs": [],
   "source": [
    "def mean_phase_cohearence(spike_times_a, spike_times_b):\n",
    "    # calculate the mean phase coherence between two spike trains\n",
    "    mean_sin = 0\n",
    "    mean_cos = 0\n",
    "    count = 0\n",
    "    if not(spike_times_a and spike_times_b):\n",
    "        return None\n",
    "    for spike_time_a in spike_times_a:\n",
    "        spike_time_b_2, idx = next(((spike_time_b, idx) for (idx, spike_time_b) in enumerate(spike_times_b) if spike_time_b > spike_time_a), (0, 0))\n",
    "        if idx == 0:\n",
    "            continue\n",
    "        count += 1\n",
    "        spike_time_b_1 = spike_times_b[idx - 1]\n",
    "        phase = 2*np.pi*(spike_time_a - spike_time_b_1) / (spike_time_b_2 - spike_time_b_1)\n",
    "        mean_sin += np.sin(phase)\n",
    "        mean_cos += np.cos(phase)\n",
    "    mean_sin /= count\n",
    "    mean_cos /= count\n",
    "    return (mean_sin**2 + mean_cos**2)**0.5"
   ]
  },
  {
   "cell_type": "code",
   "execution_count": 33,
   "metadata": {},
   "outputs": [],
   "source": [
    "neuron_keys = [str(i) for i in range(400)]\n",
    "spike_times = [expand_spike_train(pyr_stim0[neuron_key]) for neuron_key in neuron_keys]\n",
    "spike_times_pairs_vertical = combinations(spike_times[0:99], 2)"
   ]
  },
  {
   "cell_type": "code",
   "execution_count": 34,
   "metadata": {},
   "outputs": [],
   "source": [
    "vertical_coherences = [mean_phase_cohearence(spike_times_a, spike_times_b) for (spike_times_a, spike_times_b) in spike_times_pairs_vertical]"
   ]
  },
  {
   "cell_type": "code",
   "execution_count": 35,
   "metadata": {},
   "outputs": [
    {
     "data": {
      "text/plain": [
       "0.599536478716077"
      ]
     },
     "execution_count": 35,
     "metadata": {},
     "output_type": "execute_result"
    }
   ],
   "source": [
    "np.mean(vertical_coherences)"
   ]
  },
  {
   "cell_type": "code",
   "execution_count": 37,
   "metadata": {},
   "outputs": [
    {
     "data": {
      "text/plain": [
       "(array([   5.,   35.,   91.,  114.,  193.,  654., 1606., 1590.,  504.,\n",
       "          59.]),\n",
       " array([0.38688536, 0.41876819, 0.45065102, 0.48253385, 0.51441669,\n",
       "        0.54629952, 0.57818235, 0.61006518, 0.64194801, 0.67383084,\n",
       "        0.70571367]),\n",
       " <BarContainer object of 10 artists>)"
      ]
     },
     "execution_count": 37,
     "metadata": {},
     "output_type": "execute_result"
    },
    {
     "data": {
      "image/png": "[encoded data removed]",
      "text/plain": [
       "<Figure size 432x288 with 1 Axes>"
      ]
     },
     "metadata": {
      "needs_background": "light"
     },
     "output_type": "display_data"
    }
   ],
   "source": [
    "plt.hist(vertical_coherences)"
   ]
  }
 ],
 "metadata": {
  "interpreter": {
   "hash": "c8096d1454e3624a326c6294fdb446e72542397b4160fa8318f9dc24bee15a75"
  },
  "kernelspec": {
   "display_name": "Python 3.9.5 64-bit ('base': conda)",
   "language": "python",
   "name": "python3"
  },
  "language_info": {
   "codemirror_mode": {
    "name": "ipython",
    "version": 3
   },
   "file_extension": ".py",
   "mimetype": "text/x-python",
   "name": "python",
   "nbconvert_exporter": "python",
   "pygments_lexer": "ipython3",
   "version": "3.9.5"
  },
  "orig_nbformat": 4
 },
 "nbformat": 4,
 "nbformat_minor": 2
}
